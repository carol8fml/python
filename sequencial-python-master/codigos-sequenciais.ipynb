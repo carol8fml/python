{
 "cells": [
  {
   "cell_type": "code",
   "execution_count": 2,
   "metadata": {},
   "outputs": [
    {
     "name": "stdout",
     "output_type": "stream",
     "text": [
      "Entre com o primeiro número.2\n",
      "Entre com o segundo número.4\n",
      "Entre com o terceiro número.6\n",
      "Entre com o Quarto número.8\n",
      "Entre com o Quinto número.10\n",
      "Os números digitados foram, 2.0,4.0,6.0,8.0,10.0, e a media dos números foi 6.0 .\n"
     ]
    }
   ],
   "source": [
    "#Media de 5 números\n",
    "\n",
    "num1 = float(input(\"Entre com o primeiro número.\"))\n",
    "num2 = float(input(\"Entre com o segundo número.\"))\n",
    "num3 = float(input(\"Entre com o terceiro número.\"))\n",
    "num4 = float(input(\"Entre com o Quarto número.\"))\n",
    "num5 = float(input(\"Entre com o Quinto número.\"))\n",
    "\n",
    "media = (num1+num2+num3+num4+num5)/5\n",
    "\n",
    "print(\"Os números digitados foram, {},{},{},{},{}, e a media dos números foi {} .\".format(num1,num2,num3,num4,num5,media))\n",
    "\n",
    "\n",
    "\n"
   ]
  },
  {
   "cell_type": "code",
   "execution_count": 5,
   "metadata": {},
   "outputs": [
    {
     "name": "stdout",
     "output_type": "stream",
     "text": [
      "Entre com o primeiro valor.34.9\n",
      "Entre com o segundo valor.12.5\n",
      "O valor é: 2.12\n"
     ]
    }
   ],
   "source": [
    "#Calculo simples\n",
    "\n",
    "a = float(input(\"Entre com o primeiro valor.\"))\n",
    "b = float(input(\"Entre com o segundo valor.\"))\n",
    "\n",
    "x = ((a+b)/(a-b))\n",
    "\n",
    "print(\"O valor é: %.2f\"%x)"
   ]
  },
  {
   "cell_type": "code",
   "execution_count": 6,
   "metadata": {},
   "outputs": [
    {
     "name": "stdout",
     "output_type": "stream",
     "text": [
      "Entre com o valor da Base Maior.36.1\n",
      "Entre com o valor da base Menor.5.7\n",
      "Informe a altura.1.98\n",
      "A área do trapézio é: 41.38\n"
     ]
    }
   ],
   "source": [
    "#Base maior e base menor\n",
    "\n",
    "bma = float(input(\"Entre com o valor da Base Maior.\"))\n",
    "bme = float(input(\"Entre com o valor da base Menor.\"))\n",
    "h = float(input(\"Informe a altura.\"))\n",
    "\n",
    "a = ((bma+bme)*h)/2\n",
    "\n",
    "print(\"A área do trapézio é: %.2f\"%a)"
   ]
  },
  {
   "cell_type": "code",
   "execution_count": 9,
   "metadata": {},
   "outputs": [
    {
     "name": "stdout",
     "output_type": "stream",
     "text": [
      "Entre  com o valor do Raio.3.5\n",
      "O valor da área é: 38.48 O comprimento é: 21.99 O volume é: 101.02\n"
     ]
    }
   ],
   "source": [
    "#importação da biblioteca.\n",
    "\n",
    "import math\n",
    "\n",
    "#Calculo de raio e valor de pi\n",
    "\n",
    "raio = float(input(\"Entre  com o valor do Raio.\"))\n",
    "\n",
    "a = (math.pi*raio**2)\n",
    "\n",
    "c = (2*math.pi*raio)\n",
    "\n",
    "v = (0.75*math.pi*raio**3)\n",
    "\n",
    "print(\"O valor da área é: %.2f\"%a, \"O comprimento é: %.2f\"%c, \"O volume é: %.2f\"%v)"
   ]
  },
  {
   "cell_type": "code",
   "execution_count": 12,
   "metadata": {},
   "outputs": [
    {
     "name": "stdout",
     "output_type": "stream",
     "text": [
      "Informe o valor do Dividendo.10\n",
      "Imforme o valor do divisor.3\n",
      "Dividendo:  10\n",
      "Divisor:  3\n",
      "Quociente:  3\n",
      "Resto:  1\n"
     ]
    }
   ],
   "source": [
    "#fatiando uma operação\n",
    "\n",
    "dividendo = int(input(\"Informe o valor do Dividendo.\"))\n",
    "\n",
    "divisor = int(input(\"Imforme o valor do divisor.\"))\n",
    "\n",
    "quociente = (dividendo//divisor)\n",
    "\n",
    "resto = (dividendo%divisor)\n",
    "\n",
    "print(\"Dividendo: \",dividendo)\n",
    "\n",
    "print(\"Divisor: \",divisor)\n",
    "\n",
    "print(\"Quociente: \",quociente)\n",
    "\n",
    "print(\"Resto: \",resto)\n",
    "\n"
   ]
  },
  {
   "cell_type": "code",
   "execution_count": 14,
   "metadata": {},
   "outputs": [
    {
     "name": "stdout",
     "output_type": "stream",
     "text": [
      "Digite o saldo: 40\n",
      "O saldo anterior é:  40.0\n",
      "O reajuste é de:  2.0\n",
      "O novo saldo é:  42.0\n"
     ]
    }
   ],
   "source": [
    "#Reajuste de salario\n",
    "saldo = float(input(\"Digite o saldo: \"))\n",
    "\n",
    "\n",
    "reajuste= (saldo *0.05)\n",
    "novo_saldo=(saldo +reajuste)\n",
    "\n",
    "\n",
    "print(\"O saldo anterior é: \" ,saldo)\n",
    "print(\"O reajuste é de: \" ,reajuste)\n",
    "print (\"O novo saldo é: \",novo_saldo)\n",
    "\n"
   ]
  },
  {
   "cell_type": "code",
   "execution_count": 18,
   "metadata": {},
   "outputs": [
    {
     "name": "stdout",
     "output_type": "stream",
     "text": [
      "Digite o valor do produto: 1500\n",
      "O valor do produto é:  1500.0\n",
      "O valor do desconto:  135.0\n",
      "O novo valor é:  1365.0\n"
     ]
    }
   ],
   "source": [
    "#Desconto\n",
    "\n",
    "valor =  float(input(\"Digite o valor do produto: \"))\n",
    "\n",
    "descont = (valor*0.09)\n",
    "novo_valor = (valor-descont)\n",
    "\n",
    "\n",
    "print(\"O valor do produto é: \",valor)\n",
    "print(\"O valor do desconto: \", descont)\n",
    "print(\"O novo valor é: \",novo_valor)"
   ]
  },
  {
   "cell_type": "code",
   "execution_count": 4,
   "metadata": {},
   "outputs": [
    {
     "name": "stdout",
     "output_type": "stream",
     "text": [
      "Entre com a largura em metros.45\n",
      "Entre com o comprimento em metros.12\n",
      "O tamanho do comando é 540.\n",
      "A potencia de iluminação necessaria para o comando é 30.0.\n"
     ]
    }
   ],
   "source": [
    "#Calculo de comando e potencia 18\n",
    "\n",
    "largura=int(input(\"Entre com a largura em metros.\"))\n",
    "comprimento=int(input(\"Entre com o comprimento em metros.\"))\n",
    "\n",
    "tamanho = largura * comprimento\n",
    "potencia = tamanho/18\n",
    "print(\"\")\n",
    "print(\"O tamanho do comando é {}.\".format(tamanho))\n",
    "print(\"A potencia de iluminação necessaria para o comando é {}.\".format(potencia))\n",
    "\n",
    "\n",
    "\n"
   ]
  },
  {
   "cell_type": "code",
   "execution_count": 3,
   "metadata": {},
   "outputs": [
    {
     "name": "stdout",
     "output_type": "stream",
     "text": [
      "Informe um numero de 3 casas decimais.999\n",
      "Centena:  9 Dezena:  9 Unidade:  9\n",
      "A soma dos números é:  18\n"
     ]
    }
   ],
   "source": [
    "#Casas decimais\n",
    "\n",
    "num = int(input(\"Informe um numero de 3 casas decimais.\"))\n",
    "\n",
    "centena = (num//100)\n",
    "\n",
    "dezena = (num%100)//10\n",
    "\n",
    "unidade = (num%10)\n",
    "\n",
    "soma = (dezena+unidade)\n",
    "\n",
    "print(\"Centena: \",centena, \"Dezena: \",dezena, \"Unidade: \", unidade)\n",
    "\n",
    "print(\"A soma dos números é: \", soma)"
   ]
  },
  {
   "cell_type": "code",
   "execution_count": 9,
   "metadata": {},
   "outputs": [
    {
     "name": "stdout",
     "output_type": "stream",
     "text": [
      "Informe o valor de A: 35.7\n",
      "Informe o valor de B: 2.7\n",
      "Valores de A :  35.7 B:  2.7\n",
      "Os  novos valores são,  A:  2.7  e B:  35.7\n"
     ]
    }
   ],
   "source": [
    "#Troca de valores\n",
    "\n",
    "a = float(input(\"Informe o valor de A: \"))\n",
    "b = float(input(\"Informe o valor de B: \"))\n",
    "\n",
    "print(\"Valores de A : \", a,\"B: \",b)\n",
    "\n",
    "aux = a\n",
    "\n",
    "a = b\n",
    "\n",
    "b= aux\n",
    "\n",
    "print(\"Os  novos valores são,  A: \", a ,\" e B: \", b)"
   ]
  },
  {
   "cell_type": "code",
   "execution_count": 13,
   "metadata": {},
   "outputs": [
    {
     "name": "stdout",
     "output_type": "stream",
     "text": [
      "Tabuada de:10\n",
      "10\n",
      "20\n",
      "30\n",
      "40\n",
      "50\n",
      "60\n",
      "70\n",
      "80\n",
      "90\n",
      "100\n"
     ]
    }
   ],
   "source": [
    "#tabuada\n",
    "n = int(input(\"Tabuada de:\"))\n",
    "x = 1\n",
    "while x <= 10:\n",
    "     print(n*x)\n",
    "        #para não entrar em lop infinito\n",
    "     x = x + 1"
   ]
  },
  {
   "cell_type": "code",
   "execution_count": 15,
   "metadata": {},
   "outputs": [
    {
     "name": "stdout",
     "output_type": "stream",
     "text": [
      "1\n",
      "2\n",
      "3\n"
     ]
    }
   ],
   "source": [
    "x = 1 #inicio\n",
    "while x <= 3: #contagem até\n",
    "     print(x)\n",
    "     x = x + 1 #impede o lup"
   ]
  },
  {
   "cell_type": "code",
   "execution_count": 16,
   "metadata": {},
   "outputs": [
    {
     "name": "stdout",
     "output_type": "stream",
     "text": [
      "Tabuada de:4\n",
      "4 x 1 = 4\n",
      "4 x 2 = 8\n",
      "4 x 3 = 12\n",
      "4 x 4 = 16\n",
      "4 x 5 = 20\n",
      "4 x 6 = 24\n",
      "4 x 7 = 28\n",
      "4 x 8 = 32\n",
      "4 x 9 = 36\n",
      "4 x 10 = 40\n"
     ]
    }
   ],
   "source": [
    "#tabuada\n",
    "n = int(input(\"Tabuada de:\"))\n",
    "x = 1\n",
    "while x <= 10:\n",
    "    print(\"%d x %d = %d\" % (n, x, n*x) )\n",
    "    x = x + 1"
   ]
  },
  {
   "cell_type": "code",
   "execution_count": 3,
   "metadata": {},
   "outputs": [
    {
     "name": "stdout",
     "output_type": "stream",
     "text": [
      "Vamos fazer a tabuada de qual número?5\n",
      "1 x 5 = 5\n",
      "2 x 5 = 10\n",
      "3 x 5 = 15\n",
      "4 x 5 = 20\n",
      "5 x 5 = 25\n",
      "6 x 5 = 30\n",
      "7 x 5 = 35\n",
      "8 x 5 = 40\n",
      "9 x 5 = 45\n",
      "10 x 5 = 50\n",
      "11 x 5 = 55\n",
      "12 x 5 = 60\n",
      "13 x 5 = 65\n",
      "14 x 5 = 70\n",
      "15 x 5 = 75\n",
      "16 x 5 = 80\n",
      "17 x 5 = 85\n",
      "18 x 5 = 90\n",
      "19 x 5 = 95\n",
      "20 x 5 = 100\n"
     ]
    }
   ],
   "source": [
    "#Tabuada\n",
    "\n",
    "num=int(input(\"Vamos fazer a tabuada de qual número?\"))\n",
    "for i in range (1,20+1):\n",
    "    print (i,\"x\",num,\"=\",i*num)"
   ]
  },
  {
   "cell_type": "code",
   "execution_count": null,
   "metadata": {},
   "outputs": [],
   "source": []
  }
 ],
 "metadata": {
  "kernelspec": {
   "display_name": "Python 3",
   "language": "python",
   "name": "python3"
  },
  "language_info": {
   "codemirror_mode": {
    "name": "ipython",
    "version": 3
   },
   "file_extension": ".py",
   "mimetype": "text/x-python",
   "name": "python",
   "nbconvert_exporter": "python",
   "pygments_lexer": "ipython3",
   "version": "3.7.3"
  }
 },
 "nbformat": 4,
 "nbformat_minor": 2
}
