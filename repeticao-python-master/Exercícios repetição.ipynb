{
 "cells": [
  {
   "cell_type": "code",
   "execution_count": 1,
   "metadata": {},
   "outputs": [
    {
     "name": "stdout",
     "output_type": "stream",
     "text": [
      "Demorou exatamente  21 anos para que juca ficasse mais velho que chico.\n"
     ]
    }
   ],
   "source": [
    "#logica\n",
    "chi= 150\n",
    "ju= 130\n",
    "cont= 0\n",
    "\n",
    "while (chi>=ju):\n",
    "    chi +=2\n",
    "    ju  +=3\n",
    "    cont +=1\n",
    "        \n",
    "print (\"Demorou exatamente \", cont, \"anos para que juca ficasse mais velho que chico.\")"
   ]
  },
  {
   "cell_type": "code",
   "execution_count": 19,
   "metadata": {},
   "outputs": [
    {
     "name": "stdout",
     "output_type": "stream",
     "text": [
      "O resultado foi de  95.50\n"
     ]
    }
   ],
   "source": [
    "#logica\n",
    "s=0\n",
    "cont=1\n",
    "for i in range (1,100,2):\n",
    "    s= s+ i/(cont)\n",
    "    cont+=1\n",
    "    \n",
    "print (f\"O resultado foi de  {s:.2f}\" )"
   ]
  },
  {
   "cell_type": "code",
   "execution_count": 23,
   "metadata": {},
   "outputs": [
    {
     "name": "stdout",
     "output_type": "stream",
     "text": [
      "Digite um número da série: 6\n",
      "O resultado foi de 2.28\n"
     ]
    }
   ],
   "source": [
    "#serie de números\n",
    "n= int(input(\"Digite um número da série: \"))\n",
    "s=0\n",
    "for i in range(2,n,1):\n",
    "    s= s+1/i\n",
    "    \n",
    "s+=1\n",
    "print (f\"O resultado foi de {s:.2f}\" )\n"
   ]
  },
  {
   "cell_type": "code",
   "execution_count": 4,
   "metadata": {},
   "outputs": [
    {
     "name": "stdout",
     "output_type": "stream",
     "text": [
      "Digite um número:1\n",
      "digite -1 para sair.\n",
      "Digite um número:1\n",
      "digite -1 para sair.\n",
      "Digite um número:3\n",
      "digite -1 para sair.\n",
      "Digite um número:1\n",
      "digite -1 para sair.\n",
      "Digite um número:7\n",
      "digite -1 para sair.\n",
      "Digite um número:-1\n",
      "Não foi digitado nenhum número par\n",
      "O maior número é  7\n",
      "O menor número é  1\n"
     ]
    }
   ],
   "source": [
    "#quantidade de números pares, maior e menor número digitado\n",
    "pares=0\n",
    "cont=0\n",
    "contpar=0\n",
    "maior=0\n",
    "menor=11\n",
    "while (True):\n",
    "    n= int(input(\"Digite um número:\"))\n",
    "    if(n>=-1) and (n<=10):\n",
    "        break\n",
    "\n",
    "while (n!=-1):\n",
    "    print(\"digite -1 para sair.\")\n",
    "    cont+=1\n",
    "    if (n%2==0):\n",
    "        pares= pares+n\n",
    "        contpar+=1\n",
    "    if (n>maior):\n",
    "        maior=n\n",
    "    elif (n<menor):\n",
    "        \n",
    "        menor=n\n",
    "    \n",
    "        \n",
    "    while (True):\n",
    "        n= int(input(\"Digite um número:\"))\n",
    "        if(n>=-1) and (n<=10):\n",
    "            break\n",
    "\n",
    "               \n",
    "if(contpar==0):\n",
    "    print(\"Não foi digitado nenhum número par\")\n",
    "    print(\"O maior número é \", maior)\n",
    "    print(\"O menor número é \", menor)\n",
    "else:\n",
    "    \n",
    "    print(\"A quantidade de números digitados foi de: \", cont-1)\n",
    "    print(\"A média dos pares foi de: \", pares/contpar)\n",
    "    print(\"O maior número é \", maior)\n",
    "    print(\"O menor número é \", menor)\n",
    "    "
   ]
  },
  {
   "cell_type": "code",
   "execution_count": 5,
   "metadata": {},
   "outputs": [
    {
     "name": "stdout",
     "output_type": "stream",
     "text": [
      "Digite seu nome: dg\n",
      "Digite sua idade: 10\n",
      "Digite sua nota. 3- Excelente; 2- Bom; 1- Regular.2\n",
      "Digite seu nome: 2\n",
      "Digite sua idade: 22\n",
      "Digite sua nota. 3- Excelente; 2- Bom; 1- Regular.2\n",
      "Digite seu nome: 2\n",
      "Digite sua idade: 2\n",
      "Digite sua nota. 3- Excelente; 2- Bom; 1- Regular.22\n",
      "Digite seu nome: 2\n",
      "Digite sua idade: 2\n",
      "Digite sua nota. 3- Excelente; 2- Bom; 1- Regular.2\n",
      "Digite seu nome: 2\n",
      "Digite sua idade: 2\n",
      "Digite sua nota. 3- Excelente; 2- Bom; 1- Regular.2\n",
      "Digite seu nome: 2\n",
      "Digite sua idade: 2\n",
      "Digite sua nota. 3- Excelente; 2- Bom; 1- Regular.2\n",
      "Digite seu nome: 2\n",
      "Digite sua idade: 2\n",
      "Digite sua nota. 3- Excelente; 2- Bom; 1- Regular.2\n",
      "Digite seu nome: 2\n",
      "Digite sua idade: 2\n",
      "Digite sua nota. 3- Excelente; 2- Bom; 1- Regular.2\n",
      "Digite seu nome: 2\n",
      "Digite sua idade: 2\n",
      "Digite sua nota. 3- Excelente; 2- Bom; 1- Regular.2\n",
      "Digite seu nome: 2\n",
      "Digite sua idade: 2\n",
      "Digite sua nota. 3- Excelente; 2- Bom; 1- Regular.2\n",
      "Digite seu nome: 2\n",
      "Digite sua idade: 2\n",
      "Digite sua nota. 3- Excelente; 2- Bom; 1- Regular.2\n",
      "Digite seu nome: 2\n",
      "Digite sua idade: 2\n",
      "Digite sua nota. 3- Excelente; 2- Bom; 1- Regular.2\n",
      "Ninguém respondeu excelebte.\n",
      "A quantidade de pessoas que responderam regular é de:  0\n",
      "A porcetagem de pessoas que responderam bom entre todos os espectadores é de:  100.0 %\n"
     ]
    }
   ],
   "source": [
    "#opinião de 12 pessoas\n",
    "contexe=0\n",
    "media=0\n",
    "contregular=0\n",
    "contbom=0\n",
    "\n",
    "for i in range(0,12,1):\n",
    "    nome= input(\"Digite seu nome: \")\n",
    "    idade= int(input(\"Digite sua idade: \"))\n",
    "    nota= int(input(\"Digite sua nota. 3- Excelente; 2- Bom; 1- Regular.\"))\n",
    "\n",
    "    if (nota==3):     \n",
    "        media+=idade\n",
    "        contexe+=1\n",
    "    elif (nota==1):\n",
    "        contregular+=1\n",
    "    else:\n",
    "        contbom+=1\n",
    "if(contexe==0):  \n",
    "    \n",
    "    print(\"Ninguém respondeu excelente.\")\n",
    "    print(\"A quantidade de pessoas que responderam regular é de: \", contregular)\n",
    "    print(\"A porcetagem de pessoas que responderam bom entre todos os espectadores é de: \",contbom/12*100, \"%\" )\n",
    "else:\n",
    "    print(\"A média das idades das pessoas que responderam excelente é de: \", media/contexe)\n",
    "    print(\"A quantidade de pessoas que responderam regular é de: \", contregular)\n",
    "    print(\"A porcetagem de pessoas que responderam bom entre todos os espectadores é de: \",contbom/12*100, \"%\" )\n",
    "\n"
   ]
  },
  {
   "cell_type": "markdown",
   "metadata": {},
   "source": [
    "\n"
   ]
  },
  {
   "cell_type": "code",
   "execution_count": 2,
   "metadata": {},
   "outputs": [
    {
     "name": "stdout",
     "output_type": "stream",
     "text": [
      "Digite sua idade: 56\n",
      "Digite seu estado civil. C- casado; S- solteiro; V- viúvo; D- dequisitado.c\n",
      "Digite sua idade: 21\n",
      "Digite seu estado civil. C- casado; S- solteiro; V- viúvo; D- dequisitado.d\n",
      "Digite sua idade: 0\n",
      "Digite seu estado civil. C- casado; S- solteiro; V- viúvo; D- dequisitado.d\n",
      "A quantidade de pessoas casadas e com idade menor ou igual a 30 é de:  0\n",
      "A quantidade de pessoas solteiras e com idade maior ou igual 22 é de:  0\n",
      "Não há nenhuma viuva.\n",
      "A porcetagem de pessoas dequisitadas ou separadas é de:  150.0\n"
     ]
    }
   ],
   "source": [
    "#Pesquisa\n",
    "casadosnovos=0\n",
    "solteirosvelhos=0\n",
    "mediaviuva=0\n",
    "porce=0\n",
    "idade=1\n",
    "viuvas=0\n",
    "contpessoas=0\n",
    "while(idade!=0):\n",
    "    idade=int(input(\"Digite sua idade: \"))\n",
    "    estado=input(\"Digite seu estado civil. C- casado; S- solteiro; V- viúvo; D- dequisitado.\")\n",
    "    contpessoas+=1\n",
    "    if(estado==\"C\") and (idade<=30):\n",
    "        casadosnovos+=1\n",
    "    elif(estado==\"S\") and (idade>=22):\n",
    "        solteirosvelhos+=1\n",
    "    elif(estado==\"V\"):\n",
    "        mediaviuva+=idade\n",
    "        viuvas+=1\n",
    "    else:\n",
    "        porce+=1\n",
    "contpessoas=contpessoas-1\n",
    "\n",
    "if (viuvas==0):\n",
    "    print(\"A quantidade de pessoas casadas e com idade menor ou igual a 30 é de: \", casadosnovos )\n",
    "    print(\"A quantidade de pessoas solteiras e com idade maior ou igual 22 é de: \", solteirosvelhos)\n",
    "    print(\"Não há nenhuma viuva.\")\n",
    "    print(\"A porcetagem de pessoas dequisitadas ou separadas é de: \", (porce/contpessoas)*100 )\n",
    "else:\n",
    "    print(\"A quantidade de pessoas casadas e com idade menor ou igual a 30 é de: \", casadosnovos )\n",
    "    print(\"A quantidade de pessoas solteiras e com idade maior ou igual 22 é de: \", solteirosvelhos)\n",
    "    print(\"A média da idade dos viúvos é de: \", mediaviuva/viuvas)\n",
    "    print(\"A porcetagem de pessoas dequisitadas ou separadas é de: \", (porce/contpessoas)*100 )\n",
    "\n",
    "        \n"
   ]
  },
  {
   "cell_type": "code",
   "execution_count": 6,
   "metadata": {},
   "outputs": [
    {
     "name": "stdout",
     "output_type": "stream",
     "text": [
      "Digite o número referência: 9\n",
      "Digite um número: 7\n",
      "Digite um número: 99\n",
      "Digite um número: 9\n",
      "Digite um número: 7\n",
      "Digite um número: 99\n",
      "Digite um número: 9\n",
      "Digite um número: 7\n",
      "Digite um número: 99\n",
      "Digite um número: 9\n",
      "Digite um número: 7\n",
      "O produto dos números pares divisiveis por 5 e maior que o número referência é de:  1\n"
     ]
    }
   ],
   "source": [
    "#produto\n",
    "capte=1\n",
    "ref=int(input(\"Digite o número referência: \"))\n",
    "for i in range (0,10,1):\n",
    "    num=int(input(\"Digite um número: \"))\n",
    "    \n",
    "    if(num%2==0) and (num%5==0) and (num>ref):\n",
    "        capte*=num\n",
    "if(capte==1):\n",
    "    print(\"Carai menor, você não digitou nenhum número par maior que o número referência e nem divisível por 5\")\n",
    "else:\n",
    "    \n",
    "    print(\"O produto dos números pares divisiveis por 5 e maior que o número referência é de: \", capte)\n",
    "\n",
    "    "
   ]
  },
  {
   "cell_type": "markdown",
   "metadata": {},
   "source": []
  },
  {
   "cell_type": "code",
   "execution_count": 19,
   "metadata": {},
   "outputs": [
    {
     "name": "stdout",
     "output_type": "stream",
     "text": [
      "Digite o número que quer saber a tabuada: 10\n",
      "Digite o número inicial: 1\n",
      "Digite o número final: 10\n",
      "10 * 1 = 10\n",
      "10 * 2 = 20\n",
      "10 * 3 = 30\n",
      "10 * 4 = 40\n",
      "10 * 5 = 50\n",
      "10 * 6 = 60\n",
      "10 * 7 = 70\n",
      "10 * 8 = 80\n",
      "10 * 9 = 90\n",
      "10 * 10 = 100\n"
     ]
    }
   ],
   "source": [
    "#tabuada\n",
    "inicial=2\n",
    "final=1\n",
    "num=int(input(\"Digite o número que quer saber a tabuada: \"))\n",
    "while (final<inicial):\n",
    "   \n",
    "    \n",
    "    inicial= int(input(\"Digite o número inicial: \"))\n",
    "    final = int(input(\"Digite o número final: \"))\n",
    "for i in range(inicial,final+1):\n",
    "    print(num, \"*\", i, \"=\",num*i)\n",
    "\n",
    "    "
   ]
  },
  {
   "cell_type": "code",
   "execution_count": 5,
   "metadata": {},
   "outputs": [
    {
     "name": "stdout",
     "output_type": "stream",
     "text": [
      "digite o primeiro número: 2\n",
      "digite o segundo número: 4\n",
      "2 ,  4 , 6 , 2 , 8 , 6 , 14 , 8 , 22 , 14 , 36 , 22 , 58 , 36 , 94 , 58 , 152 , 94 , 246 , 152 "
     ]
    }
   ],
   "source": [
    "#número9\n",
    "#Zavoli que fez xD\n",
    "num3=0\n",
    "num1=int(input(\"digite o primeiro número: \"))\n",
    "num2=int(input(\"digite o segundo número: \"))\n",
    "print(num1, \", \", num2, end= \" , \")\n",
    "for i in range (3,21,1):\n",
    "    if (i%2 == 1):\n",
    "        num3=num2 +num1\n",
    "    else:\n",
    "        num3= num2-num1\n",
    "    if (i!=20):\n",
    "        print(num3, end = \" , \")\n",
    "    else:\n",
    "        print(num3, end = \" \")\n",
    "    num1=num2\n",
    "    num2=num3\n",
    "  \n",
    "    \n",
    "    \n",
    "    "
   ]
  },
  {
   "cell_type": "code",
   "execution_count": 6,
   "metadata": {},
   "outputs": [
    {
     "name": "stdout",
     "output_type": "stream",
     "text": [
      "Digte um número de 4 digitos.4654\n",
      "Esse número  4654  não tem essa característica.\n",
      "Digte um número de 4 digitos.1654\n",
      "Esse número  1654  não tem essa característica.\n",
      "Digte um número de 4 digitos.3025\n",
      "Esse número  3025  tem essa característica.\n",
      "Digte um número de 4 digitos.9801\n",
      "Esse número  9801  tem essa característica.\n",
      "Digte um número de 4 digitos.2025\n",
      "Esse número  2025  tem essa característica.\n",
      "Digte um número de 4 digitos.9999\n",
      "Esse número  9999  não tem essa característica.\n",
      "Digte um número de 4 digitos.9999\n",
      "Esse número  9999  não tem essa característica.\n",
      "Digte um número de 4 digitos.999999\n"
     ]
    }
   ],
   "source": [
    "#caracterisca\n",
    "partesq=0\n",
    "partdireita=0\n",
    "while (True):\n",
    "    num= int(input(\"Digte um número de 4 digitos.\"))\n",
    "    if (num<1000) or (num>9999):\n",
    "        break\n",
    "    partesq= num//100\n",
    "    partdireita= num%100\n",
    "    if ((partesq+partdireita)**2==num):\n",
    "        print(\"Esse número \", num, \" tem essa característica.\")\n",
    "    else:\n",
    "        print(\"Esse número \", num, \" não tem essa característica.\")\n",
    "    \n"
   ]
  },
  {
   "cell_type": "code",
   "execution_count": null,
   "metadata": {},
   "outputs": [],
   "source": []
  }
 ],
 "metadata": {
  "kernelspec": {
   "display_name": "Python 3",
   "language": "python",
   "name": "python3"
  },
  "language_info": {
   "codemirror_mode": {
    "name": "ipython",
    "version": 3
   },
   "file_extension": ".py",
   "mimetype": "text/x-python",
   "name": "python",
   "nbconvert_exporter": "python",
   "pygments_lexer": "ipython3",
   "version": "3.7.3"
  }
 },
 "nbformat": 4,
 "nbformat_minor": 2
}
