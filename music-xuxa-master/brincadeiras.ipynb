{
 "cells": [
  {
   "cell_type": "code",
   "execution_count": 32,
   "metadata": {},
   "outputs": [
    {
     "name": "stdout",
     "output_type": "stream",
     "text": [
      "5  patinhos foram passear \n",
      " Alem das montanhas \n",
      " Para brincar\n",
      "\n",
      "A mamae gritou: Qua, qua, qua qua \n",
      " Mas so  4  patinhos voltaram de la.\n",
      "\n",
      "4  patinhos foram passear \n",
      " Alem das montanhas \n",
      " Para brincar\n",
      "\n",
      "A mamae gritou: Qua, qua, qua qua \n",
      " Mas so  3  patinhos voltaram de la.\n",
      "\n",
      "3  patinhos foram passear \n",
      " Alem das montanhas \n",
      " Para brincar\n",
      "\n",
      "A mamae gritou: Qua, qua, qua qua \n",
      " Mas so  2  patinhos voltaram de la.\n",
      "\n",
      "2  patinhos foram passear \n",
      " Alem das montanhas \n",
      " Para brincar\n",
      "\n",
      "A mamae gritou: Qua, qua, qua qua \n",
      " Mas so  1  patinhos voltaram de la.\n",
      "\n",
      "1  patinhos foram passear \n",
      " Alem das montanhas \n",
      " Para brincar\n",
      "\n",
      "A mamae gritou: Qua, qua, qua qua \n",
      " Mas so  0  patinhos voltaram de la.\n",
      "\n"
     ]
    }
   ],
   "source": [
    "for i in range(5,0,-1):\n",
    "    print(i,\" patinhos foram passear \\n Alem das montanhas \\n Para brincar\\n\")\n",
    "    print(\"A mamae gritou: Qua, qua, qua qua \\n Mas so \",i-1,\" patinhos voltaram de la.\\n\")"
   ]
  },
  {
   "cell_type": "code",
   "execution_count": 35,
   "metadata": {},
   "outputs": [
    {
     "name": "stdout",
     "output_type": "stream",
     "text": [
      "5  patinhos foram passear \n",
      " Alem das montanhas \n",
      " Para brincar\n",
      "\n",
      "A mamae gritou: Qua, qua, qua qua \n",
      " Mas so  4  patinhos voltaram de la.\n",
      "\n",
      "4  patinhos foram passear \n",
      " Alem das montanhas \n",
      " Para brincar\n",
      "\n",
      "A mamae gritou: Qua, qua, qua qua \n",
      " Mas so  3  patinhos voltaram de la.\n",
      "\n",
      "3  patinhos foram passear \n",
      " Alem das montanhas \n",
      " Para brincar\n",
      "\n",
      "A mamae gritou: Qua, qua, qua qua \n",
      " Mas so  2  patinhos voltaram de la.\n",
      "\n",
      "2  patinhos foram passear \n",
      " Alem das montanhas \n",
      " Para brincar\n",
      "\n",
      "A mamae gritou: Qua, qua, qua qua \n",
      " Mas so  1  patinhos voltaram de la.\n",
      "\n",
      "1  patinhos foram passear \n",
      " Alem das montanhas \n",
      " Para brincar\n",
      "\n",
      "A mamae gritou: Qua, qua, qua qua \n",
      " Mas so  0  patinhos voltaram de la.\n",
      "\n"
     ]
    }
   ],
   "source": [
    "for i in range(5,0,-1):\n",
    "  print(i,\" patinhos foram passear \\n Alem das montanhas \\n Para brincar\\n\")\n",
    "  if i != 0:\n",
    "    print(\"A mamae gritou: Qua, qua, qua qua \\n Mas so \",i-1,\" patinhos voltaram de la.\\n\")\n",
    "  elif i == 0:\n",
    "    print(\"A mamae gritou: Qua, qua, qua qua \\n Mas nenhum patinho voltou de lá.\\n\")\n",
    "  else:\n",
    "    print(\"\"\"A mamãe patinha foi procurar\n",
    "                 Além das montanhas\n",
    "                 Na beira do mar\n",
    "                 A mamãe gritou: Quá, quá, quá, quá\n",
    "                 E os cinco patinhos voltaram de lá.\n",
    "       \"\"\")\n",
    "    "
   ]
  },
  {
   "cell_type": "code",
   "execution_count": null,
   "metadata": {},
   "outputs": [],
   "source": []
  },
  {
   "cell_type": "code",
   "execution_count": null,
   "metadata": {},
   "outputs": [],
   "source": []
  }
 ],
 "metadata": {
  "kernelspec": {
   "display_name": "Python 3",
   "language": "python",
   "name": "python3"
  },
  "language_info": {
   "codemirror_mode": {
    "name": "ipython",
    "version": 3
   },
   "file_extension": ".py",
   "mimetype": "text/x-python",
   "name": "python",
   "nbconvert_exporter": "python",
   "pygments_lexer": "ipython3",
   "version": "3.7.1"
  }
 },
 "nbformat": 4,
 "nbformat_minor": 2
}
