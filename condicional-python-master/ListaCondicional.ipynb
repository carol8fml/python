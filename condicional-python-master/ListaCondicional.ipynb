{
 "cells": [
  {
   "cell_type": "code",
   "execution_count": 1,
   "metadata": {},
   "outputs": [
    {
     "name": "stdout",
     "output_type": "stream",
     "text": [
      "Entre com o número:8\n",
      "8 é par!\n"
     ]
    }
   ],
   "source": [
    "#PAR OU IMPAR \n",
    "\n",
    "num=int(input(\"Entre com o número:\"))\n",
    "if (num%2 == 0):\n",
    "    print(\"{} é par!\".format(num))\n",
    "if (num%2 != 0):\n",
    "    print(\"{} é ímpar!\".format(num))"
   ]
  },
  {
   "cell_type": "code",
   "execution_count": 25,
   "metadata": {},
   "outputs": [
    {
     "name": "stdout",
     "output_type": "stream",
     "text": [
      "Entre com o 1 valor:2\n",
      "Entre com o 2 valor:2222\n",
      "Entre com o 3 valor:64\n",
      "2º número 2222 é o maior!\n",
      "\n"
     ]
    }
   ],
   "source": [
    "#MAIOR VALOR ENTRE 3 NÚMEROS\n",
    "\n",
    "n1=int(input(\"Entre com o 1 valor:\"))\n",
    "n2=int(input(\"Entre com o 2 valor:\"))\n",
    "n3=int(input(\"Entre com o 3 valor:\"))\n",
    "\n",
    "if (n1>n2) and (n1>n3):\n",
    "    print(\"1º número {} é o maior!\".format(n1))\n",
    "    if (n2==n3):\n",
    "        print(\"{} é o maior mesmo, e o: {} e {} são iguais.\".format(n1,n2,n3))\n",
    "        print(\"\")\n",
    "        \n",
    "elif (n2>n1) and (n2>n3):\n",
    "    print(\"2º número {} é o maior!\".format(n2))\n",
    "    if (n1==n3):\n",
    "        print(\"{} é o maior mesmo, e o: {} e {} são iguais.\".format(n2,n1,n3))\n",
    "    print(\"\")\n",
    "       \n",
    "elif (n3>n1) and (n3>n2):\n",
    "    print(\"3º número {} é o maior!\".format(n3))\n",
    "    if (n1==n2):\n",
    "        print(\"{} é o maior, e o: {} e {} são iguais.\".format(n3,n1,n2))\n",
    "    print(\"\")\n",
    "    \n",
    "elif (n1==n2) and (n1==n3):\n",
    "    print(\"{}, {}, {}, os mesmo números!\".format(n1,n2,n3))\n",
    "    "
   ]
  },
  {
   "cell_type": "code",
   "execution_count": 26,
   "metadata": {},
   "outputs": [
    {
     "name": "stdout",
     "output_type": "stream",
     "text": [
      "Entre com o 1 valor:89\n",
      "Entre com o 2 valor:98\n",
      "Entre com o 3 valor:2\n",
      "----------------Vamos colocar na ordem crescente------------------\n",
      "2\n",
      "89\n",
      "98\n"
     ]
    }
   ],
   "source": [
    "#NÚMEROS CRESCENTE\n",
    "\n",
    "n1=int(input(\"Entre com o 1 valor:\"))\n",
    "n2=int(input(\"Entre com o 2 valor:\"))\n",
    "n3=int(input(\"Entre com o 3 valor:\"))\n",
    "\n",
    "print (\"----------------Vamos colocar na ordem crescente------------------\") \n",
    "\n",
    "#LAÇO PRINCIPAL COM N1 SENDO MENOR QUE TODOS\n",
    "if (n1<n2) and (n1<n3):\n",
    "    print(\"{}\".format(n1))\n",
    "   \n",
    "     #SE N2 MENOR QUE N3\n",
    "    if (n2<n3):\n",
    "        print(\"{}\".format(n2))\n",
    "        print(\"{}\".format(n3)) \n",
    "        \n",
    "    #SE N3 MENOR N2\n",
    "    if (n3<n2):\n",
    "        print(\"{}\".format(n3))\n",
    "        print(\"{}\".format(n2))\n",
    "        \n",
    "#LAÇO PRINCIPAL COM N2 SENDO MENOR QUE TODOS\n",
    "if (n2<n1) and (n2<n3):\n",
    "    print(\"{}\".format(n2))\n",
    "   \n",
    "     #SE N1 MENOR QUE N3\n",
    "    if (n1<n3):\n",
    "        print(\"{}\".format(n1))\n",
    "        print(\"{}\".format(n3)) \n",
    "        \n",
    "    #SE N3 MENOR N1\n",
    "    if (n3<n1):\n",
    "        print(\"{}\".format(n3))\n",
    "        print(\"{}\".format(n1))\n",
    "        \n",
    "#LAÇO PRINCIPAL COM N3 SENDO MENOR QUE TODOS\n",
    "if (n3<n1) and (n3<n2):\n",
    "    print(\"{}\".format(n3))\n",
    "   \n",
    "     #SE N1 MENOR QUE N2\n",
    "    if (n1<n2):\n",
    "        print(\"{}\".format(n1))\n",
    "        print(\"{}\".format(n2)) \n",
    "        \n",
    "    #SE N2 MENOR N1\n",
    "    if (n2<n1):\n",
    "        print(\"{}\".format(n2))\n",
    "        print(\"{}\".format(n1))\n",
    "        "
   ]
  },
  {
   "cell_type": "code",
   "execution_count": 17,
   "metadata": {},
   "outputs": [
    {
     "name": "stdout",
     "output_type": "stream",
     "text": [
      "Quanto foi seu carro? 50000\n",
      "No valor total de 'R$50000.00', você pagou:'R$7500.00', para o distruibidor e R$10000.00 de imposto.\n",
      "\n",
      "Seu carro sem o valor do distribuidor R$7500.00 - o imposto de R$10000.00 sairá a R$32500.00.\n",
      "\n"
     ]
    }
   ],
   "source": [
    "#VALOR DE UM CARRO\n",
    "\n",
    "carro=int(input(\"Quanto foi seu carro? \"))\n",
    "\n",
    "if (carro<=12000):\n",
    "    valor_bruto = carro\n",
    "    valor_distribuidor = valor_bruto*0.05\n",
    "    print (\"Você foi insento de imposto!\")\n",
    "    print (\"No valor total de 'R${:.2f}', você pagou:'R${:.2f}', para o distruibidor.\".format(valor_bruto,valor_distribuidor))\n",
    "    print(\"\")\n",
    "    \n",
    "if (carro>12000) and (carro<=25000):\n",
    "    valor_bruto = carro\n",
    "    valor_distribuidor = valor_bruto*0.10\n",
    "    imposto = valor_bruto*0.15\n",
    "    print (\"No valor total de 'R${:.2f}', você pagou:'R${:.2f}', para o distruibidor e R${:.2f}de imposto.\".format(valor_bruto,valor_distribuidor,imposto))\n",
    "    custo = carro - valor_distribuidor - imposto\n",
    "    print(\"\")\n",
    "    print (\"Seu carro sem o valor do distribuidor R${:.2f} e o imposto de R${:.2f} sairá a R${:.2f}.\".format(valor_distribuidor,imposto,custo))\n",
    "    print(\"\")\n",
    "    \n",
    "if  (carro>25000):\n",
    "    valor_bruto = carro\n",
    "    valor_distribuidor = valor_bruto*0.15\n",
    "    imposto = valor_bruto*0.20\n",
    "    print (\"No valor total de 'R${:.2f}', você pagou:'R${:.2f}', para o distruibidor e R${:.2f} de imposto.\".format(valor_bruto,valor_distribuidor,imposto))\n",
    "    custo = carro - valor_distribuidor - imposto\n",
    "    print(\"\")\n",
    "    print (\"Seu carro sem o valor do distribuidor R${:.2f} - o imposto de R${:.2f} sairá a R${:.2f}.\".format(valor_distribuidor,imposto,custo))\n",
    "    print(\"\")"
   ]
  },
  {
   "cell_type": "code",
   "execution_count": 18,
   "metadata": {},
   "outputs": [
    {
     "name": "stdout",
     "output_type": "stream",
     "text": [
      "Qual é o valor do produto?50\n",
      "O aumento é de R$2.5.\n",
      "\n",
      "O novo valor é R$52.5.\n",
      "Baratinho!!!!\n"
     ]
    }
   ],
   "source": [
    "valor=(float(input(\"Qual é o valor do produto?\")))\n",
    "\n",
    "if (valor<=50):\n",
    "    aumento = valor*0.05\n",
    "    print(\"O aumento é de R${}.\".format(aumento))\n",
    "    print(\"\")\n",
    "if (valor>50) and (valor<=100):\n",
    "    aumento = valor*0.10\n",
    "    print(\"O aumento é de R${}.\".format(aumento))\n",
    "    print(\"\")\n",
    "if (valor>100):\n",
    "    aumento = valor*0.15\n",
    "    print(\"O aumento é de R${}.\".format(aumento))\n",
    "    print(\"\")\n",
    "    \n",
    "novo_valor= valor+aumento\n",
    "print(\"O novo valor é R${}.\".format(novo_valor))\n",
    "\n",
    "if (novo_valor<=80):\n",
    "    print (\"Baratinho!!!!\")\n",
    "if (novo_valor>80) and (valor<=120):\n",
    "    print (\"valor normal\")\n",
    "if (novo_valor>120) and (valor<=200):\n",
    "    print (\"Um pouco caro!!!\")\n",
    "if (novo_valor>200):\n",
    "    print (\"Carissimo!!!\")\n",
    "    "
   ]
  },
  {
   "cell_type": "code",
   "execution_count": null,
   "metadata": {},
   "outputs": [],
   "source": []
  },
  {
   "cell_type": "code",
   "execution_count": null,
   "metadata": {},
   "outputs": [],
   "source": []
  }
 ],
 "metadata": {
  "kernelspec": {
   "display_name": "Python 3",
   "language": "python",
   "name": "python3"
  },
  "language_info": {
   "codemirror_mode": {
    "name": "ipython",
    "version": 3
   },
   "file_extension": ".py",
   "mimetype": "text/x-python",
   "name": "python",
   "nbconvert_exporter": "python",
   "pygments_lexer": "ipython3",
   "version": "3.7.1"
  }
 },
 "nbformat": 4,
 "nbformat_minor": 2
}
